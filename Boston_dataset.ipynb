{
 "cells": [
  {
   "cell_type": "code",
   "execution_count": 5,
   "metadata": {},
   "outputs": [
    {
     "data": {
      "text/plain": [
       "0.7634174432138463"
      ]
     },
     "execution_count": 5,
     "metadata": {},
     "output_type": "execute_result"
    }
   ],
   "source": [
    "import numpy as np\n",
    "from sklearn import datasets\n",
    "\n",
    "boston = datasets.load_boston()\n",
    "\n",
    "boston.data.shape,boston.target.shape\n",
    "boston.feature_names\n",
    "boston.DESCR\n",
    "\n",
    "import pandas as pd\n",
    "\n",
    "df = pd.DataFrame(boston.data)\n",
    "\n",
    "df.columns = boston.feature_names\n",
    "\n",
    "df.describe\n",
    "\n",
    "sum(df.CHAS == 1)\n",
    "\n",
    "from sklearn.linear_model import LinearRegression\n",
    "from sklearn.model_selection import train_test_split\n",
    "\n",
    "x_train,x_test,y_train,y_test = train_test_split(boston.data,boston.target,test_size = 0.2,random_state=1)\n",
    "\n",
    "alg_boston = LinearRegression()\n",
    "alg_boston.fit(x_train,y_train)\n",
    "\n",
    "alg_boston.coef_,alg_boston.intercept_\n",
    "\n",
    "y_pred = alg_boston.predict(x_test)\n",
    "\n",
    "alg_boston.score(x_test,y_test)#checking the score corresponding to training data which is fitted already by algo.fit()"
   ]
  },
  {
   "cell_type": "code",
   "execution_count": null,
   "metadata": {},
   "outputs": [],
   "source": []
  }
 ],
 "metadata": {
  "kernelspec": {
   "display_name": "Python 3",
   "language": "python",
   "name": "python3"
  },
  "language_info": {
   "codemirror_mode": {
    "name": "ipython",
    "version": 3
   },
   "file_extension": ".py",
   "mimetype": "text/x-python",
   "name": "python",
   "nbconvert_exporter": "python",
   "pygments_lexer": "ipython3",
   "version": "3.7.1"
  }
 },
 "nbformat": 4,
 "nbformat_minor": 2
}
